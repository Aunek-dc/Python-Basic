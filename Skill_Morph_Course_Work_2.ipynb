{
  "nbformat": 4,
  "nbformat_minor": 0,
  "metadata": {
    "colab": {
      "provenance": [],
      "toc_visible": true,
      "authorship_tag": "ABX9TyMRottfXDNHv8DBuNWPvaTo",
      "include_colab_link": true
    },
    "kernelspec": {
      "name": "python3",
      "display_name": "Python 3"
    },
    "language_info": {
      "name": "python"
    }
  },
  "cells": [
    {
      "cell_type": "markdown",
      "metadata": {
        "id": "view-in-github",
        "colab_type": "text"
      },
      "source": [
        "<a href=\"https://colab.research.google.com/github/Aunek-dc/Python-Basic/blob/main/Skill_Morph_Course_Work_2.ipynb\" target=\"_parent\"><img src=\"https://colab.research.google.com/assets/colab-badge.svg\" alt=\"Open In Colab\"/></a>"
      ]
    },
    {
      "cell_type": "markdown",
      "source": [
        "# *2.1*\n",
        " Create variables for your name, age, and favorite color, then print them with descriptive labels."
      ],
      "metadata": {
        "id": "NkrqmrM4hp1A"
      }
    },
    {
      "cell_type": "code",
      "source": [
        "my_name= \"Aunek\"\n",
        "my_age= 25\n",
        "my_fav_colour= 'Green'\n",
        "print(f\"Name: {my_name}\\nAge: {my_age}\\nMy favourite colour: {my_fav_colour}\")"
      ],
      "metadata": {
        "colab": {
          "base_uri": "https://localhost:8080/"
        },
        "id": "4_kZlPbfiHdn",
        "outputId": "19b686c5-8a12-40ed-a2a4-4f2a8b9022f4"
      },
      "execution_count": 1,
      "outputs": [
        {
          "output_type": "stream",
          "name": "stdout",
          "text": [
            "Name: Aunek\n",
            "Age: 25\n",
            "My favourite colour: Green\n"
          ]
        }
      ]
    },
    {
      "cell_type": "markdown",
      "source": [
        "# 2.2\n",
        "Create one variable of each type and use the type() function to verify its type."
      ],
      "metadata": {
        "id": "Np2z_CTdAdb8"
      }
    },
    {
      "cell_type": "code",
      "source": [
        "Name_String=\"Potato\"\n",
        "Price_num=25\n",
        "Price_increased_bool=True\n",
        "Stock_null=None\n",
        "print(type(Name_String))\n",
        "print(type(Price_num))\n",
        "print(type( Price_increased_bool))\n",
        "print(type(Stock_null))"
      ],
      "metadata": {
        "colab": {
          "base_uri": "https://localhost:8080/"
        },
        "id": "L0gqdoj1Aqln",
        "outputId": "66733b86-7bd6-4c78-a09c-3c0c1257b5c0"
      },
      "execution_count": 2,
      "outputs": [
        {
          "output_type": "stream",
          "name": "stdout",
          "text": [
            "<class 'str'>\n",
            "<class 'int'>\n",
            "<class 'bool'>\n",
            "<class 'NoneType'>\n"
          ]
        }
      ]
    },
    {
      "cell_type": "markdown",
      "source": [
        "# 2.3\n",
        "Calculate the area and perimeter of a rectangle with length 7 and width 5."
      ],
      "metadata": {
        "id": "M7yBDcKWCHqY"
      }
    },
    {
      "cell_type": "code",
      "source": [
        "Len=7\n",
        "Bre=5\n",
        "Area=7*5\n",
        "peri=2*(7+5)\n",
        "print(f\"Area: {Area} square units\\nPerimeter: {peri} units\")"
      ],
      "metadata": {
        "colab": {
          "base_uri": "https://localhost:8080/"
        },
        "id": "fBIMBGs3CVfg",
        "outputId": "3422fe45-eab6-49d4-8c4e-939fcda7563d"
      },
      "execution_count": 5,
      "outputs": [
        {
          "output_type": "stream",
          "name": "stdout",
          "text": [
            "Area: 35 square units\n",
            "Perimeter: 24 units\n"
          ]
        }
      ]
    },
    {
      "cell_type": "markdown",
      "source": [
        "# New Section"
      ],
      "metadata": {
        "id": "LvQ-lAMZDDTc"
      }
    }
  ]
}